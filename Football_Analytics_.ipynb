{
 "cells": [
  {
   "cell_type": "code",
   "execution_count": 4,
   "metadata": {},
   "outputs": [],
   "source": [
    "import pandas as pd\n",
    "import numpy as np\n",
    "import plotly.graph_objects as go\n",
    "match= pd.read_csv('C:/Users/alcir/OneDrive/Documents/Football Analytics/results.csv')\n",
    "\n",
    "#put date in correct format and set it as the index\n",
    "date= pd.to_datetime(match.date.values)\n",
    "match['date']=date\n",
    "match.set_index('date', inplace=True)\n",
    "\n",
    "#get the coloumn of results (wins, ties and losses)\n",
    "win= np.where(match.home_score > match.away_score, 'win', None)\n",
    "tie=np.where(match.home_score == match.away_score, 'tie', None)\n",
    "loss= np.where(match.home_score < match.away_score, 'loss', None)\n",
    "\n",
    "results=pd.DataFrame([win, tie, loss]).T\n",
    "x=[value[value != None]  for value in results.values]\n",
    "\n",
    "match['result']= x\n",
    "match['result']=np.squeeze(match.result.tolist())\n",
    "\n",
    "# Year 1 is the first year example 2000\n",
    "# Year 2 is the second year example 2010\n",
    "def getdecade_info(year_1,year_2):\n",
    "    if year_2 - year_1 == 10:\n",
    "        return match.loc['{}-1-1'.format(year_1):'{}-12-31'.format(year_2)]\n",
    "    else:\n",
    "        return None\n",
    "\n",
    "decade = getdecade_info(2008,2018)"
   ]
  },
  {
   "cell_type": "code",
   "execution_count": 5,
   "metadata": {},
   "outputs": [],
   "source": [
    "#home\n",
    "home_teams=decade.groupby(['home_team','result']).count()['city'].sort_values(ascending=False).reset_index().rename(columns={'city': 'count'})\n",
    "home_matches=[]\n",
    "for team in home_teams.home_team:\n",
    "    tot_matches= home_teams[home_teams.home_team== team]['count'].sum()\n",
    "    home_matches.append(tot_matches)\n",
    "   \n",
    "home_teams['home_matches']=home_matches\n",
    "home_teams['pct_home_victory']= np.round(home_teams['count']/ home_teams['home_matches'] * 100,2)\n",
    "\n",
    "\n",
    "#away\n",
    "away_teams=decade.groupby(['away_team','result']).count()['city'].sort_values(ascending=False).reset_index().rename(columns={'city': 'count'})\n",
    "away_teams.replace({'loss': 'win', 'win':'loss'}, inplace=True) #loss means victory for the away team\n",
    "\n",
    "away_tot_matches=[]\n",
    "for team in away_teams.away_team:\n",
    "    tot_matches= away_teams[away_teams.away_team == team]['count'].sum()\n",
    "    away_tot_matches.append(tot_matches)\n",
    "\n",
    "away_teams['away_matches']= away_tot_matches\n",
    "away_teams['pct_victory_away'] = away_teams['count']/away_teams['away_matches']\n",
    "\n",
    "\n",
    "#adjusting terminology and index\n",
    "home_teams.rename(columns={'result': 'home_results', 'count': 'home_count'}, inplace=True)\n",
    "home_teams.set_index('home_team','Team', inplace=True)\n",
    "away_teams.rename(columns={'result': 'away_results', 'count': 'away_count'}, inplace=True)\n",
    "away_teams.set_index('away_team','Team', inplace=True)\n",
    "\n",
    "#defining winners and losers\n",
    "home_winners= home_teams[home_teams.home_results=='win']\n",
    "away_winners= away_teams[away_teams.away_results=='win']\n",
    "#home_losers= home_teams[home_teams.home_results=='loss']\n",
    "#away_losers= away_teams[away_teams.away_results=='loss']\n"
   ]
  },
  {
   "cell_type": "code",
   "execution_count": 7,
   "metadata": {},
   "outputs": [
    {
     "data": {
      "application/vnd.plotly.v1+json": {
       "config": {
        "plotlyServerURL": "https://plot.ly"
       },
       "data": [
        {
         "marker": {
          "color": [
           84.62,
           80.95,
           75,
           74.68,
           73.68,
           71.05,
           70.75,
           70,
           66.67,
           63.64,
           63.4,
           60.42,
           60.31,
           60,
           59.85,
           58.33,
           58.06,
           57.72,
           57.69,
           56.64,
           56.25,
           55,
           54.49,
           53.12,
           52.99,
           52.63,
           51.72,
           51.16,
           50.66,
           50.34,
           50.3,
           50,
           50,
           50,
           50,
           50,
           50,
           50,
           49.64,
           49.3,
           49.11,
           48.46,
           48.36,
           48.15,
           48.11,
           47.22,
           47.2,
           47.06,
           47.02,
           46.97
          ]
         },
         "mode": "markers",
         "text": [
          "Réunion",
          "Jersey",
          "Monaco",
          "Spain",
          "Isle of Man",
          "Padania",
          "Brazil",
          "Basque Country",
          "County of Nice",
          "Guernsey",
          "Germany",
          "Egypt",
          "England",
          "Yorkshire",
          "Netherlands",
          "Argentina",
          "Belgium",
          "France",
          "Iran",
          "Portugal",
          "Croatia",
          "Northern Cyprus",
          "Japan",
          "Mexico",
          "Switzerland",
          "Ukraine",
          "United States",
          "Dominican Republic",
          "Ivory Coast",
          "Chile",
          "South Korea",
          "Somaliland",
          "Bermuda",
          "Cascadia",
          "Occitania",
          "Arameans Suryoye",
          "Kárpátalja",
          "Artsakh",
          "Australia",
          "Sweden",
          "Algeria",
          "Morocco",
          "Colombia",
          "Iraqi Kurdistan",
          "Bosnia and Herzegovina",
          "Senegal",
          "Russia",
          "Menorca",
          "Nigeria",
          "Uruguay"
         ],
         "type": "scatter",
         "x": [
          "Réunion",
          "Jersey",
          "Monaco",
          "Spain",
          "Isle of Man",
          "Padania",
          "Brazil",
          "Basque Country",
          "County of Nice",
          "Guernsey",
          "Germany",
          "Egypt",
          "England",
          "Yorkshire",
          "Netherlands",
          "Argentina",
          "Belgium",
          "France",
          "Iran",
          "Portugal",
          "Croatia",
          "Northern Cyprus",
          "Japan",
          "Mexico",
          "Switzerland",
          "Ukraine",
          "United States",
          "Dominican Republic",
          "Ivory Coast",
          "Chile",
          "South Korea",
          "Somaliland",
          "Bermuda",
          "Cascadia",
          "Occitania",
          "Arameans Suryoye",
          "Kárpátalja",
          "Artsakh",
          "Australia",
          "Sweden",
          "Algeria",
          "Morocco",
          "Colombia",
          "Iraqi Kurdistan",
          "Bosnia and Herzegovina",
          "Senegal",
          "Russia",
          "Menorca",
          "Nigeria",
          "Uruguay"
         ],
         "y": [
          84.62,
          80.95,
          75,
          74.68,
          73.68,
          71.05,
          70.75,
          70,
          66.67,
          63.64,
          63.4,
          60.42,
          60.31,
          60,
          59.85,
          58.33,
          58.06,
          57.72,
          57.69,
          56.64,
          56.25,
          55,
          54.49,
          53.12,
          52.99,
          52.63,
          51.72,
          51.16,
          50.66,
          50.34,
          50.3,
          50,
          50,
          50,
          50,
          50,
          50,
          50,
          49.64,
          49.3,
          49.11,
          48.46,
          48.36,
          48.15,
          48.11,
          47.22,
          47.2,
          47.06,
          47.02,
          46.97
         ]
        }
       ],
       "layout": {
        "template": {
         "data": {
          "bar": [
           {
            "error_x": {
             "color": "#2a3f5f"
            },
            "error_y": {
             "color": "#2a3f5f"
            },
            "marker": {
             "line": {
              "color": "#E5ECF6",
              "width": 0.5
             }
            },
            "type": "bar"
           }
          ],
          "barpolar": [
           {
            "marker": {
             "line": {
              "color": "#E5ECF6",
              "width": 0.5
             }
            },
            "type": "barpolar"
           }
          ],
          "carpet": [
           {
            "aaxis": {
             "endlinecolor": "#2a3f5f",
             "gridcolor": "white",
             "linecolor": "white",
             "minorgridcolor": "white",
             "startlinecolor": "#2a3f5f"
            },
            "baxis": {
             "endlinecolor": "#2a3f5f",
             "gridcolor": "white",
             "linecolor": "white",
             "minorgridcolor": "white",
             "startlinecolor": "#2a3f5f"
            },
            "type": "carpet"
           }
          ],
          "choropleth": [
           {
            "colorbar": {
             "outlinewidth": 0,
             "ticks": ""
            },
            "type": "choropleth"
           }
          ],
          "contour": [
           {
            "colorbar": {
             "outlinewidth": 0,
             "ticks": ""
            },
            "colorscale": [
             [
              0,
              "#0d0887"
             ],
             [
              0.1111111111111111,
              "#46039f"
             ],
             [
              0.2222222222222222,
              "#7201a8"
             ],
             [
              0.3333333333333333,
              "#9c179e"
             ],
             [
              0.4444444444444444,
              "#bd3786"
             ],
             [
              0.5555555555555556,
              "#d8576b"
             ],
             [
              0.6666666666666666,
              "#ed7953"
             ],
             [
              0.7777777777777778,
              "#fb9f3a"
             ],
             [
              0.8888888888888888,
              "#fdca26"
             ],
             [
              1,
              "#f0f921"
             ]
            ],
            "type": "contour"
           }
          ],
          "contourcarpet": [
           {
            "colorbar": {
             "outlinewidth": 0,
             "ticks": ""
            },
            "type": "contourcarpet"
           }
          ],
          "heatmap": [
           {
            "colorbar": {
             "outlinewidth": 0,
             "ticks": ""
            },
            "colorscale": [
             [
              0,
              "#0d0887"
             ],
             [
              0.1111111111111111,
              "#46039f"
             ],
             [
              0.2222222222222222,
              "#7201a8"
             ],
             [
              0.3333333333333333,
              "#9c179e"
             ],
             [
              0.4444444444444444,
              "#bd3786"
             ],
             [
              0.5555555555555556,
              "#d8576b"
             ],
             [
              0.6666666666666666,
              "#ed7953"
             ],
             [
              0.7777777777777778,
              "#fb9f3a"
             ],
             [
              0.8888888888888888,
              "#fdca26"
             ],
             [
              1,
              "#f0f921"
             ]
            ],
            "type": "heatmap"
           }
          ],
          "heatmapgl": [
           {
            "colorbar": {
             "outlinewidth": 0,
             "ticks": ""
            },
            "colorscale": [
             [
              0,
              "#0d0887"
             ],
             [
              0.1111111111111111,
              "#46039f"
             ],
             [
              0.2222222222222222,
              "#7201a8"
             ],
             [
              0.3333333333333333,
              "#9c179e"
             ],
             [
              0.4444444444444444,
              "#bd3786"
             ],
             [
              0.5555555555555556,
              "#d8576b"
             ],
             [
              0.6666666666666666,
              "#ed7953"
             ],
             [
              0.7777777777777778,
              "#fb9f3a"
             ],
             [
              0.8888888888888888,
              "#fdca26"
             ],
             [
              1,
              "#f0f921"
             ]
            ],
            "type": "heatmapgl"
           }
          ],
          "histogram": [
           {
            "marker": {
             "colorbar": {
              "outlinewidth": 0,
              "ticks": ""
             }
            },
            "type": "histogram"
           }
          ],
          "histogram2d": [
           {
            "colorbar": {
             "outlinewidth": 0,
             "ticks": ""
            },
            "colorscale": [
             [
              0,
              "#0d0887"
             ],
             [
              0.1111111111111111,
              "#46039f"
             ],
             [
              0.2222222222222222,
              "#7201a8"
             ],
             [
              0.3333333333333333,
              "#9c179e"
             ],
             [
              0.4444444444444444,
              "#bd3786"
             ],
             [
              0.5555555555555556,
              "#d8576b"
             ],
             [
              0.6666666666666666,
              "#ed7953"
             ],
             [
              0.7777777777777778,
              "#fb9f3a"
             ],
             [
              0.8888888888888888,
              "#fdca26"
             ],
             [
              1,
              "#f0f921"
             ]
            ],
            "type": "histogram2d"
           }
          ],
          "histogram2dcontour": [
           {
            "colorbar": {
             "outlinewidth": 0,
             "ticks": ""
            },
            "colorscale": [
             [
              0,
              "#0d0887"
             ],
             [
              0.1111111111111111,
              "#46039f"
             ],
             [
              0.2222222222222222,
              "#7201a8"
             ],
             [
              0.3333333333333333,
              "#9c179e"
             ],
             [
              0.4444444444444444,
              "#bd3786"
             ],
             [
              0.5555555555555556,
              "#d8576b"
             ],
             [
              0.6666666666666666,
              "#ed7953"
             ],
             [
              0.7777777777777778,
              "#fb9f3a"
             ],
             [
              0.8888888888888888,
              "#fdca26"
             ],
             [
              1,
              "#f0f921"
             ]
            ],
            "type": "histogram2dcontour"
           }
          ],
          "mesh3d": [
           {
            "colorbar": {
             "outlinewidth": 0,
             "ticks": ""
            },
            "type": "mesh3d"
           }
          ],
          "parcoords": [
           {
            "line": {
             "colorbar": {
              "outlinewidth": 0,
              "ticks": ""
             }
            },
            "type": "parcoords"
           }
          ],
          "scatter": [
           {
            "marker": {
             "colorbar": {
              "outlinewidth": 0,
              "ticks": ""
             }
            },
            "type": "scatter"
           }
          ],
          "scatter3d": [
           {
            "line": {
             "colorbar": {
              "outlinewidth": 0,
              "ticks": ""
             }
            },
            "marker": {
             "colorbar": {
              "outlinewidth": 0,
              "ticks": ""
             }
            },
            "type": "scatter3d"
           }
          ],
          "scattercarpet": [
           {
            "marker": {
             "colorbar": {
              "outlinewidth": 0,
              "ticks": ""
             }
            },
            "type": "scattercarpet"
           }
          ],
          "scattergeo": [
           {
            "marker": {
             "colorbar": {
              "outlinewidth": 0,
              "ticks": ""
             }
            },
            "type": "scattergeo"
           }
          ],
          "scattergl": [
           {
            "marker": {
             "colorbar": {
              "outlinewidth": 0,
              "ticks": ""
             }
            },
            "type": "scattergl"
           }
          ],
          "scattermapbox": [
           {
            "marker": {
             "colorbar": {
              "outlinewidth": 0,
              "ticks": ""
             }
            },
            "type": "scattermapbox"
           }
          ],
          "scatterpolar": [
           {
            "marker": {
             "colorbar": {
              "outlinewidth": 0,
              "ticks": ""
             }
            },
            "type": "scatterpolar"
           }
          ],
          "scatterpolargl": [
           {
            "marker": {
             "colorbar": {
              "outlinewidth": 0,
              "ticks": ""
             }
            },
            "type": "scatterpolargl"
           }
          ],
          "scatterternary": [
           {
            "marker": {
             "colorbar": {
              "outlinewidth": 0,
              "ticks": ""
             }
            },
            "type": "scatterternary"
           }
          ],
          "surface": [
           {
            "colorbar": {
             "outlinewidth": 0,
             "ticks": ""
            },
            "colorscale": [
             [
              0,
              "#0d0887"
             ],
             [
              0.1111111111111111,
              "#46039f"
             ],
             [
              0.2222222222222222,
              "#7201a8"
             ],
             [
              0.3333333333333333,
              "#9c179e"
             ],
             [
              0.4444444444444444,
              "#bd3786"
             ],
             [
              0.5555555555555556,
              "#d8576b"
             ],
             [
              0.6666666666666666,
              "#ed7953"
             ],
             [
              0.7777777777777778,
              "#fb9f3a"
             ],
             [
              0.8888888888888888,
              "#fdca26"
             ],
             [
              1,
              "#f0f921"
             ]
            ],
            "type": "surface"
           }
          ],
          "table": [
           {
            "cells": {
             "fill": {
              "color": "#EBF0F8"
             },
             "line": {
              "color": "white"
             }
            },
            "header": {
             "fill": {
              "color": "#C8D4E3"
             },
             "line": {
              "color": "white"
             }
            },
            "type": "table"
           }
          ]
         },
         "layout": {
          "annotationdefaults": {
           "arrowcolor": "#2a3f5f",
           "arrowhead": 0,
           "arrowwidth": 1
          },
          "colorscale": {
           "diverging": [
            [
             0,
             "#8e0152"
            ],
            [
             0.1,
             "#c51b7d"
            ],
            [
             0.2,
             "#de77ae"
            ],
            [
             0.3,
             "#f1b6da"
            ],
            [
             0.4,
             "#fde0ef"
            ],
            [
             0.5,
             "#f7f7f7"
            ],
            [
             0.6,
             "#e6f5d0"
            ],
            [
             0.7,
             "#b8e186"
            ],
            [
             0.8,
             "#7fbc41"
            ],
            [
             0.9,
             "#4d9221"
            ],
            [
             1,
             "#276419"
            ]
           ],
           "sequential": [
            [
             0,
             "#0d0887"
            ],
            [
             0.1111111111111111,
             "#46039f"
            ],
            [
             0.2222222222222222,
             "#7201a8"
            ],
            [
             0.3333333333333333,
             "#9c179e"
            ],
            [
             0.4444444444444444,
             "#bd3786"
            ],
            [
             0.5555555555555556,
             "#d8576b"
            ],
            [
             0.6666666666666666,
             "#ed7953"
            ],
            [
             0.7777777777777778,
             "#fb9f3a"
            ],
            [
             0.8888888888888888,
             "#fdca26"
            ],
            [
             1,
             "#f0f921"
            ]
           ],
           "sequentialminus": [
            [
             0,
             "#0d0887"
            ],
            [
             0.1111111111111111,
             "#46039f"
            ],
            [
             0.2222222222222222,
             "#7201a8"
            ],
            [
             0.3333333333333333,
             "#9c179e"
            ],
            [
             0.4444444444444444,
             "#bd3786"
            ],
            [
             0.5555555555555556,
             "#d8576b"
            ],
            [
             0.6666666666666666,
             "#ed7953"
            ],
            [
             0.7777777777777778,
             "#fb9f3a"
            ],
            [
             0.8888888888888888,
             "#fdca26"
            ],
            [
             1,
             "#f0f921"
            ]
           ]
          },
          "colorway": [
           "#636efa",
           "#EF553B",
           "#00cc96",
           "#ab63fa",
           "#FFA15A",
           "#19d3f3",
           "#FF6692",
           "#B6E880",
           "#FF97FF",
           "#FECB52"
          ],
          "font": {
           "color": "#2a3f5f"
          },
          "geo": {
           "bgcolor": "white",
           "lakecolor": "white",
           "landcolor": "#E5ECF6",
           "showlakes": true,
           "showland": true,
           "subunitcolor": "white"
          },
          "hoverlabel": {
           "align": "left"
          },
          "hovermode": "closest",
          "mapbox": {
           "style": "light"
          },
          "paper_bgcolor": "white",
          "plot_bgcolor": "#E5ECF6",
          "polar": {
           "angularaxis": {
            "gridcolor": "white",
            "linecolor": "white",
            "ticks": ""
           },
           "bgcolor": "#E5ECF6",
           "radialaxis": {
            "gridcolor": "white",
            "linecolor": "white",
            "ticks": ""
           }
          },
          "scene": {
           "xaxis": {
            "backgroundcolor": "#E5ECF6",
            "gridcolor": "white",
            "gridwidth": 2,
            "linecolor": "white",
            "showbackground": true,
            "ticks": "",
            "zerolinecolor": "white"
           },
           "yaxis": {
            "backgroundcolor": "#E5ECF6",
            "gridcolor": "white",
            "gridwidth": 2,
            "linecolor": "white",
            "showbackground": true,
            "ticks": "",
            "zerolinecolor": "white"
           },
           "zaxis": {
            "backgroundcolor": "#E5ECF6",
            "gridcolor": "white",
            "gridwidth": 2,
            "linecolor": "white",
            "showbackground": true,
            "ticks": "",
            "zerolinecolor": "white"
           }
          },
          "shapedefaults": {
           "line": {
            "color": "#2a3f5f"
           }
          },
          "ternary": {
           "aaxis": {
            "gridcolor": "white",
            "linecolor": "white",
            "ticks": ""
           },
           "baxis": {
            "gridcolor": "white",
            "linecolor": "white",
            "ticks": ""
           },
           "bgcolor": "#E5ECF6",
           "caxis": {
            "gridcolor": "white",
            "linecolor": "white",
            "ticks": ""
           }
          },
          "title": {
           "x": 0.05
          },
          "xaxis": {
           "automargin": true,
           "gridcolor": "white",
           "linecolor": "white",
           "ticks": "",
           "zerolinecolor": "white",
           "zerolinewidth": 2
          },
          "yaxis": {
           "automargin": true,
           "gridcolor": "white",
           "linecolor": "white",
           "ticks": "",
           "zerolinecolor": "white",
           "zerolinewidth": 2
          }
         }
        },
        "title": {
         "text": "Best 50 International Football Teams from 2008-2018 (All Matches)"
        }
       }
      }
     },
     "metadata": {},
     "output_type": "display_data"
    }
   ],
   "source": [
    "\n",
    "#merging datasets\n",
    "winners=pd.merge(home_winners, away_winners, left_index=True, right_index=True, how='inner')\n",
    "#losers=pd.merge(home_losers, away_losers, left_index=True, right_index=True, how='inner')\n",
    "#losers.rename(columns={'pct_home_victory': 'pct_home_defeats', 'pct_victory_away': 'pct_away_defeats'}, inplace=True)\n",
    "columns_ = ['home_count','away_count', 'home_matches', \"away_matches\"]\n",
    "#winners['tot_goals_scored'] = winners.home_score + winners.away_score\n",
    "winners['tot_count']= winners.home_count + winners.away_count\n",
    "winners['tot_matches']= winners.home_matches + winners.away_matches\n",
    "winners['tot_pct_victory']= np.round(winners.tot_count/winners.tot_matches*100,2)\n",
    "#winners['tot_goals_ratio'] = winners.tot_goals_scored/winners.tot_matches\n",
    "\n",
    "winners = winners[['tot_count','tot_pct_victory']]\n",
    "winners = winners.sort_values(by='tot_pct_victory',ascending=False)\n",
    "\n",
    "teams = winners.index.to_numpy()\n",
    "values = list(winners[\"tot_pct_victory\"])\n",
    "fig = go.Figure(data=go.Scatter(x=teams[:50],\n",
    "                                y=values[:50],\n",
    "                                mode='markers',\n",
    "                                text=teams[:50])) # hover text goes here\n",
    "\n",
    "fig.update_layout(title='Best 50 International Football Teams from 2008-2018 (All Matches)')\n",
    "fig.show()\n",
    "\n"
   ]
  },
  {
   "cell_type": "code",
   "execution_count": null,
   "metadata": {},
   "outputs": [],
   "source": []
  }
 ],
 "metadata": {
  "kernelspec": {
   "display_name": "Python 3",
   "language": "python",
   "name": "python3"
  },
  "language_info": {
   "codemirror_mode": {
    "name": "ipython",
    "version": 3
   },
   "file_extension": ".py",
   "mimetype": "text/x-python",
   "name": "python",
   "nbconvert_exporter": "python",
   "pygments_lexer": "ipython3",
   "version": "3.7.3"
  }
 },
 "nbformat": 4,
 "nbformat_minor": 2
}