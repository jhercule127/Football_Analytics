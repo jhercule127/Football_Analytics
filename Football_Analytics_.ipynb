{
 "cells": [
  {
   "cell_type": "code",
   "execution_count": 1,
   "metadata": {},
   "outputs": [
    {
     "ename": "ModuleNotFoundError",
     "evalue": "No module named 'plotly'",
     "output_type": "error",
     "traceback": [
      "\u001b[1;31m---------------------------------------------------------------------------\u001b[0m",
      "\u001b[1;31mModuleNotFoundError\u001b[0m                       Traceback (most recent call last)",
      "\u001b[1;32m<ipython-input-1-f8fd11e12614>\u001b[0m in \u001b[0;36m<module>\u001b[1;34m\u001b[0m\n\u001b[0;32m      2\u001b[0m \u001b[1;32mimport\u001b[0m \u001b[0mnumpy\u001b[0m \u001b[1;32mas\u001b[0m \u001b[0mnp\u001b[0m\u001b[1;33m\u001b[0m\u001b[1;33m\u001b[0m\u001b[0m\n\u001b[0;32m      3\u001b[0m \u001b[1;32mimport\u001b[0m \u001b[0mmatplotlib\u001b[0m\u001b[1;33m.\u001b[0m\u001b[0mpyplot\u001b[0m \u001b[1;32mas\u001b[0m \u001b[0mplt\u001b[0m\u001b[1;33m\u001b[0m\u001b[1;33m\u001b[0m\u001b[0m\n\u001b[1;32m----> 4\u001b[1;33m \u001b[1;32mimport\u001b[0m \u001b[0mplotly\u001b[0m\u001b[1;33m.\u001b[0m\u001b[0mexpress\u001b[0m \u001b[1;32mas\u001b[0m \u001b[0mpx\u001b[0m\u001b[1;33m\u001b[0m\u001b[1;33m\u001b[0m\u001b[0m\n\u001b[0m\u001b[0;32m      5\u001b[0m \u001b[0mmatch\u001b[0m\u001b[1;33m=\u001b[0m \u001b[0mpd\u001b[0m\u001b[1;33m.\u001b[0m\u001b[0mread_csv\u001b[0m\u001b[1;33m(\u001b[0m\u001b[1;34m'C:/Users/alcir/OneDrive/Documents/Football Analytics/results.csv'\u001b[0m\u001b[1;33m)\u001b[0m\u001b[1;33m\u001b[0m\u001b[1;33m\u001b[0m\u001b[0m\n\u001b[0;32m      6\u001b[0m \u001b[1;33m\u001b[0m\u001b[0m\n",
      "\u001b[1;31mModuleNotFoundError\u001b[0m: No module named 'plotly'"
     ]
    }
   ],
   "source": [
    "import pandas as pd\n",
    "import numpy as np\n",
    "import matplotlib.pyplot as plt\n",
    "import plotly.express as px\n",
    "match= pd.read_csv('C:/Users/alcir/OneDrive/Documents/Football Analytics/results.csv')\n",
    "\n",
    "#put date in correct format and set it as the index\n",
    "date= pd.to_datetime(match.date.values)\n",
    "match['date']=date\n",
    "match.set_index('date', inplace=True)\n",
    "\n",
    "#get the coloumn of results (wins, ties and losses)\n",
    "win= np.where(match.home_score > match.away_score, 'win', None)\n",
    "tie=np.where(match.home_score == match.away_score, 'tie', None)\n",
    "loss= np.where(match.home_score < match.away_score, 'loss', None)\n",
    "\n",
    "results=pd.DataFrame([win, tie, loss]).T\n",
    "x=[value[value != None]  for value in results.values]\n",
    "\n",
    "match['result']= x\n",
    "match['result']=np.squeeze(match.result.tolist())\n",
    "\n",
    "# Year 1 is the first year example 2000\n",
    "# Year 2 is the second year example 2010\n",
    "def getdecade_info(year_1,year_2):\n",
    "    if year_2 - year_1 == 10:\n",
    "        return match.loc['{}-1-1'.format(year_1):'{}-12-31'.format(year_2)]\n",
    "    else:\n",
    "        return None\n",
    "\n",
    "decade = getdecade_info(2008,2018)"
   ]
  },
  {
   "cell_type": "code",
   "execution_count": null,
   "metadata": {},
   "outputs": [],
   "source": [
    "#home\n",
    "home_teams=decade.groupby(['home_team','result']).count()['city'].sort_values(ascending=False).reset_index().rename(columns={'city': 'count'})\n",
    "home_matches=[]\n",
    "for team in home_teams.home_team:\n",
    "    tot_matches= home_teams[home_teams.home_team== team]['count'].sum()\n",
    "    home_matches.append(tot_matches)\n",
    "   \n",
    "home_teams['home_matches']=home_matches\n",
    "home_teams['pct_home_victory']= np.round(home_teams['count']/ home_teams['home_matches'] * 100,2)\n",
    "\n",
    "\n",
    "#away\n",
    "away_teams=decade.groupby(['away_team','result']).count()['city'].sort_values(ascending=False).reset_index().rename(columns={'city': 'count'})\n",
    "away_teams.replace({'loss': 'win', 'win':'loss'}, inplace=True) #loss means victory for the away team\n",
    "\n",
    "away_tot_matches=[]\n",
    "for team in away_teams.away_team:\n",
    "    tot_matches= away_teams[away_teams.away_team == team]['count'].sum()\n",
    "    away_tot_matches.append(tot_matches)\n",
    "\n",
    "away_teams['away_matches']= away_tot_matches\n",
    "away_teams['pct_victory_away'] = away_teams['count']/away_teams['away_matches']\n",
    "\n",
    "\n",
    "#adjusting terminology and index\n",
    "home_teams.rename(columns={'result': 'home_results', 'count': 'home_count'}, inplace=True)\n",
    "home_teams.set_index('home_team','Team', inplace=True)\n",
    "away_teams.rename(columns={'result': 'away_results', 'count': 'away_count'}, inplace=True)\n",
    "away_teams.set_index('away_team','Team', inplace=True)\n",
    "\n",
    "#defining winners and losers\n",
    "home_winners= home_teams[home_teams.home_results=='win']\n",
    "away_winners= away_teams[away_teams.away_results=='win']\n",
    "home_losers= home_teams[home_teams.home_results=='loss']\n",
    "away_losers= away_teams[away_teams.away_results=='loss']\n"
   ]
  },
  {
   "cell_type": "code",
   "execution_count": null,
   "metadata": {
    "scrolled": true
   },
   "outputs": [],
   "source": [
    "\n",
    "#merging datasets\n",
    "winners=pd.merge(home_winners, away_winners, left_index=True, right_index=True, how='inner')\n",
    "#losers=pd.merge(home_losers, away_losers, left_index=True, right_index=True, how='inner')\n",
    "#losers.rename(columns={'pct_home_victory': 'pct_home_defeats', 'pct_victory_away': 'pct_away_defeats'}, inplace=True)\n",
    "columns_ = ['home_count','away_count', 'home_matches', \"away_matches\"]\n",
    "#winners['tot_goals_scored'] = winners.home_score + winners.away_score\n",
    "winners['tot_count']= winners.home_count + winners.away_count\n",
    "winners['tot_matches']= winners.home_matches + winners.away_matches\n",
    "winners['tot_pct_victory']= np.round(winners.tot_count/winners.tot_matches*100,2)\n",
    "#winners['tot_goals_ratio'] = winners.tot_goals_scored/winners.tot_matches\n",
    "\n",
    "winners = winners[['tot_count','tot_pct_victory']]\n",
    "winners = winners.sort_values(by='tot_pct_victory',ascending=False)\n",
    "\n",
    "teams = winners.index.to_numpy()\n",
    "values = list(winners[\"tot_pct_victory\"])\n",
    "iris = px.data.winners() # iris is a pandas DataFrame\n",
    "fig = px.scatter(winners, x=\"sepal_width\", y=\"sepal_length\")\n",
    "fig.show()\n",
    "\n",
    "\n",
    "'''fig, axs = plt.subplots(figsize=(20, 10), sharey=True)\n",
    "plt.bar(teams[:100],values[:100])\n",
    "'''\n"
   ]
  },
  {
   "cell_type": "code",
   "execution_count": null,
   "metadata": {},
   "outputs": [],
   "source": []
  }
 ],
 "metadata": {
  "kernelspec": {
   "display_name": "Python 3",
   "language": "python",
   "name": "python3"
  },
  "language_info": {
   "codemirror_mode": {
    "name": "ipython",
    "version": 3
   },
   "file_extension": ".py",
   "mimetype": "text/x-python",
   "name": "python",
   "nbconvert_exporter": "python",
   "pygments_lexer": "ipython3",
   "version": "3.7.3"
  }
 },
 "nbformat": 4,
 "nbformat_minor": 2
}
